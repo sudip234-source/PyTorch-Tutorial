{
  "nbformat": 4,
  "nbformat_minor": 0,
  "metadata": {
    "colab": {
      "provenance": [],
      "authorship_tag": "ABX9TyP7F3f89pgja0Ye9yi3DsyV",
      "include_colab_link": true
    },
    "kernelspec": {
      "name": "python3",
      "display_name": "Python 3"
    },
    "language_info": {
      "name": "python"
    }
  },
  "cells": [
    {
      "cell_type": "markdown",
      "metadata": {
        "id": "view-in-github",
        "colab_type": "text"
      },
      "source": [
        "<a href=\"https://colab.research.google.com/github/sudip234-source/PyTorch-Tutorial/blob/main/nn_Module.ipynb\" target=\"_parent\"><img src=\"https://colab.research.google.com/assets/colab-badge.svg\" alt=\"Open In Colab\"/></a>"
      ]
    },
    {
      "cell_type": "code",
      "execution_count": 9,
      "metadata": {
        "id": "FUj1Q2qAUgCB"
      },
      "outputs": [],
      "source": [
        "import torch\n",
        "import torch.nn as nn\n",
        "\n",
        "class Model(nn.Module):\n",
        "    def __init__(self,num_features):\n",
        "        super(Model, self).__init__()\n",
        "        self.linear = nn.Linear(num_features,3)\n",
        "        self.relu = nn.ReLU()\n",
        "\n",
        "        self.linear2 = nn.Linear(3,2)\n",
        "        self.relu2 = nn.ReLU()\n",
        "\n",
        "        self.linear3 = nn.Linear(2,1)\n",
        "\n",
        "        self.sigmoid = nn.Sigmoid()\n",
        "\n",
        "    def forward(self,features):\n",
        "        z1 = self.linear(features)\n",
        "        a1 = self.relu(z1)\n",
        "\n",
        "        z2 = self.linear2(a1)\n",
        "        a2 = self.relu2(z2)\n",
        "\n",
        "        z3 = self.linear3(a2)\n",
        "        out = self.sigmoid(z3)\n",
        "        return out"
      ]
    },
    {
      "cell_type": "code",
      "source": [
        "feature = torch.rand((10,5))\n",
        "\n",
        "model = Model(feature.shape[1])\n",
        "output = model(feature)"
      ],
      "metadata": {
        "id": "XtiIcEgTWQeR"
      },
      "execution_count": 10,
      "outputs": []
    },
    {
      "cell_type": "code",
      "source": [
        "output"
      ],
      "metadata": {
        "colab": {
          "base_uri": "https://localhost:8080/"
        },
        "id": "H4fmD4yPWz0C",
        "outputId": "e05d5491-dc12-48de-a35c-043902a0b707"
      },
      "execution_count": 11,
      "outputs": [
        {
          "output_type": "execute_result",
          "data": {
            "text/plain": [
              "tensor([[0.3689],\n",
              "        [0.3628],\n",
              "        [0.3624],\n",
              "        [0.3619],\n",
              "        [0.3661],\n",
              "        [0.3704],\n",
              "        [0.3548],\n",
              "        [0.3723],\n",
              "        [0.3586],\n",
              "        [0.3784]], grad_fn=<SigmoidBackward0>)"
            ]
          },
          "metadata": {},
          "execution_count": 11
        }
      ]
    },
    {
      "cell_type": "code",
      "source": [
        "model.linear.bias"
      ],
      "metadata": {
        "colab": {
          "base_uri": "https://localhost:8080/"
        },
        "id": "FXJhO8xDW7uo",
        "outputId": "b780d049-3a99-4f85-86bc-e43f249f814e"
      },
      "execution_count": 12,
      "outputs": [
        {
          "output_type": "execute_result",
          "data": {
            "text/plain": [
              "Parameter containing:\n",
              "tensor([ 0.3084,  0.1229, -0.2745], requires_grad=True)"
            ]
          },
          "metadata": {},
          "execution_count": 12
        }
      ]
    },
    {
      "cell_type": "code",
      "source": [
        "model.linear.weight"
      ],
      "metadata": {
        "colab": {
          "base_uri": "https://localhost:8080/"
        },
        "id": "a5AdrTHrXKsZ",
        "outputId": "36e35482-8f10-439e-d005-aaa38203b052"
      },
      "execution_count": 13,
      "outputs": [
        {
          "output_type": "execute_result",
          "data": {
            "text/plain": [
              "Parameter containing:\n",
              "tensor([[ 0.4057, -0.1541,  0.1195,  0.1131,  0.1454],\n",
              "        [-0.1784,  0.4388,  0.0652, -0.1132,  0.2996],\n",
              "        [ 0.0715, -0.3534,  0.4300, -0.2191,  0.3289]], requires_grad=True)"
            ]
          },
          "metadata": {},
          "execution_count": 13
        }
      ]
    },
    {
      "cell_type": "code",
      "source": [
        "!pip install torchinfo"
      ],
      "metadata": {
        "colab": {
          "base_uri": "https://localhost:8080/"
        },
        "id": "OV8QdiI1XNAz",
        "outputId": "e5857660-0d92-4663-fb45-dad683becb78"
      },
      "execution_count": 7,
      "outputs": [
        {
          "output_type": "stream",
          "name": "stdout",
          "text": [
            "Collecting torchinfo\n",
            "  Downloading torchinfo-1.8.0-py3-none-any.whl.metadata (21 kB)\n",
            "Downloading torchinfo-1.8.0-py3-none-any.whl (23 kB)\n",
            "Installing collected packages: torchinfo\n",
            "Successfully installed torchinfo-1.8.0\n"
          ]
        }
      ]
    },
    {
      "cell_type": "code",
      "source": [
        "from torchinfo import summary\n",
        "summary(model)"
      ],
      "metadata": {
        "colab": {
          "base_uri": "https://localhost:8080/"
        },
        "id": "OG8dIU46Xdyn",
        "outputId": "d413fc09-899a-4cfa-93ee-331da57501b1"
      },
      "execution_count": 14,
      "outputs": [
        {
          "output_type": "execute_result",
          "data": {
            "text/plain": [
              "=================================================================\n",
              "Layer (type:depth-idx)                   Param #\n",
              "=================================================================\n",
              "Model                                    --\n",
              "├─Linear: 1-1                            18\n",
              "├─ReLU: 1-2                              --\n",
              "├─Linear: 1-3                            8\n",
              "├─ReLU: 1-4                              --\n",
              "├─Linear: 1-5                            3\n",
              "├─Sigmoid: 1-6                           --\n",
              "=================================================================\n",
              "Total params: 29\n",
              "Trainable params: 29\n",
              "Non-trainable params: 0\n",
              "================================================================="
            ]
          },
          "metadata": {},
          "execution_count": 14
        }
      ]
    },
    {
      "cell_type": "markdown",
      "source": [
        "By using Module"
      ],
      "metadata": {
        "id": "flStVA0UeiBG"
      }
    },
    {
      "cell_type": "code",
      "source": [
        "# create model class\n",
        "import torch\n",
        "import torch.nn as nn\n",
        "\n",
        "class Model(nn.Module):\n",
        "\n",
        "  def __init__(self, num_features):\n",
        "\n",
        "    super().__init__()\n",
        "    self.network = nn.Sequential(\n",
        "        nn.Linear(num_features, 3),\n",
        "        nn.ReLU(),\n",
        "        nn.Linear(3, 2),\n",
        "        nn.ReLU(),\n",
        "        nn.Linear(2, 1),\n",
        "        nn.Sigmoid()\n",
        "    )\n",
        "\n",
        "  def forward(self, features):\n",
        "\n",
        "    out = self.network(features)\n",
        "\n",
        "    return out"
      ],
      "metadata": {
        "id": "wa0Z-m73XqSz"
      },
      "execution_count": 16,
      "outputs": []
    },
    {
      "cell_type": "code",
      "source": [
        "features = torch.rand((10,5))\n",
        "\n",
        "model = Model(features.shape[1])\n",
        "output = model(features)\n",
        "output"
      ],
      "metadata": {
        "colab": {
          "base_uri": "https://localhost:8080/"
        },
        "id": "3btVUlv8gZmp",
        "outputId": "ef3a2c00-7c71-44d2-f094-ecf8ecbb583d"
      },
      "execution_count": 17,
      "outputs": [
        {
          "output_type": "execute_result",
          "data": {
            "text/plain": [
              "tensor([[0.5625],\n",
              "        [0.5625],\n",
              "        [0.5625],\n",
              "        [0.5473],\n",
              "        [0.5625],\n",
              "        [0.5578],\n",
              "        [0.5493],\n",
              "        [0.5390],\n",
              "        [0.5625],\n",
              "        [0.5519]], grad_fn=<SigmoidBackward0>)"
            ]
          },
          "metadata": {},
          "execution_count": 17
        }
      ]
    },
    {
      "cell_type": "code",
      "source": [
        "model.named_parameters()"
      ],
      "metadata": {
        "colab": {
          "base_uri": "https://localhost:8080/"
        },
        "id": "d5Jg-p8zgojd",
        "outputId": "6e5519a4-ef18-41a1-e955-1be0428ecb80"
      },
      "execution_count": 19,
      "outputs": [
        {
          "output_type": "execute_result",
          "data": {
            "text/plain": [
              "<generator object Module.named_parameters at 0x7d39b6150b40>"
            ]
          },
          "metadata": {},
          "execution_count": 19
        }
      ]
    },
    {
      "cell_type": "code",
      "source": [
        "for name, param in model.named_parameters():\n",
        "    if param.requires_grad:\n",
        "        print(f\"{name} → shape: {param.shape}\")\n",
        "        print(param)"
      ],
      "metadata": {
        "colab": {
          "base_uri": "https://localhost:8080/"
        },
        "id": "fdZfeCJahAsP",
        "outputId": "a2915b23-bac9-4243-9ba6-ddbed70580d4"
      },
      "execution_count": 20,
      "outputs": [
        {
          "output_type": "stream",
          "name": "stdout",
          "text": [
            "network.0.weight → shape: torch.Size([3, 5])\n",
            "Parameter containing:\n",
            "tensor([[-0.0479, -0.3993, -0.1971,  0.2397, -0.0108],\n",
            "        [ 0.3389, -0.0711,  0.3809, -0.0804,  0.3547],\n",
            "        [-0.1535, -0.1979,  0.0564, -0.2382, -0.0910]], requires_grad=True)\n",
            "network.0.bias → shape: torch.Size([3])\n",
            "Parameter containing:\n",
            "tensor([-0.2747, -0.3968, -0.1230], requires_grad=True)\n",
            "network.2.weight → shape: torch.Size([2, 3])\n",
            "Parameter containing:\n",
            "tensor([[-0.3287,  0.5453, -0.5460],\n",
            "        [ 0.2916,  0.5412,  0.2407]], requires_grad=True)\n",
            "network.2.bias → shape: torch.Size([2])\n",
            "Parameter containing:\n",
            "tensor([-0.3469,  0.0806], requires_grad=True)\n",
            "network.4.weight → shape: torch.Size([1, 2])\n",
            "Parameter containing:\n",
            "tensor([[-0.4844, -0.6743]], requires_grad=True)\n",
            "network.4.bias → shape: torch.Size([1])\n",
            "Parameter containing:\n",
            "tensor([0.3056], requires_grad=True)\n"
          ]
        }
      ]
    },
    {
      "cell_type": "code",
      "source": [
        "summary(model)"
      ],
      "metadata": {
        "colab": {
          "base_uri": "https://localhost:8080/"
        },
        "id": "OUfp3Hwdhf4E",
        "outputId": "64afb6db-4ba4-4db3-c300-e30688b15986"
      },
      "execution_count": 21,
      "outputs": [
        {
          "output_type": "execute_result",
          "data": {
            "text/plain": [
              "=================================================================\n",
              "Layer (type:depth-idx)                   Param #\n",
              "=================================================================\n",
              "Model                                    --\n",
              "├─Sequential: 1-1                        --\n",
              "│    └─Linear: 2-1                       18\n",
              "│    └─ReLU: 2-2                         --\n",
              "│    └─Linear: 2-3                       8\n",
              "│    └─ReLU: 2-4                         --\n",
              "│    └─Linear: 2-5                       3\n",
              "│    └─Sigmoid: 2-6                      --\n",
              "=================================================================\n",
              "Total params: 29\n",
              "Trainable params: 29\n",
              "Non-trainable params: 0\n",
              "================================================================="
            ]
          },
          "metadata": {},
          "execution_count": 21
        }
      ]
    },
    {
      "cell_type": "code",
      "source": [],
      "metadata": {
        "id": "fgfS68-vhr7P"
      },
      "execution_count": null,
      "outputs": []
    }
  ]
}